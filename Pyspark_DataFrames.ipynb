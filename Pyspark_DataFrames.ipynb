{
  "nbformat": 4,
  "nbformat_minor": 0,
  "metadata": {
    "colab": {
      "name": "Pyspark DataFrames",
      "provenance": []
    },
    "kernelspec": {
      "name": "python3",
      "display_name": "Python 3"
    },
    "language_info": {
      "name": "python"
    }
  },
  "cells": [
    {
      "cell_type": "code",
      "metadata": {
        "colab": {
          "base_uri": "https://localhost:8080/"
        },
        "id": "leZPg02I4TIS",
        "outputId": "169fb971-2383-4d09-e6d3-d0f3eb7d4000"
      },
      "source": [
        "!pip install pyspark"
      ],
      "execution_count": 3,
      "outputs": [
        {
          "output_type": "stream",
          "text": [
            "Collecting pyspark\n",
            "\u001b[?25l  Downloading https://files.pythonhosted.org/packages/45/b0/9d6860891ab14a39d4bddf80ba26ce51c2f9dc4805e5c6978ac0472c120a/pyspark-3.1.1.tar.gz (212.3MB)\n",
            "\u001b[K     |████████████████████████████████| 212.3MB 70kB/s \n",
            "\u001b[?25hCollecting py4j==0.10.9\n",
            "\u001b[?25l  Downloading https://files.pythonhosted.org/packages/9e/b6/6a4fb90cd235dc8e265a6a2067f2a2c99f0d91787f06aca4bcf7c23f3f80/py4j-0.10.9-py2.py3-none-any.whl (198kB)\n",
            "\u001b[K     |████████████████████████████████| 204kB 42.7MB/s \n",
            "\u001b[?25hBuilding wheels for collected packages: pyspark\n",
            "  Building wheel for pyspark (setup.py) ... \u001b[?25l\u001b[?25hdone\n",
            "  Created wheel for pyspark: filename=pyspark-3.1.1-py2.py3-none-any.whl size=212767604 sha256=65f844c1295b59bba91b4a2ebec785e345379f0a4e3f6fd84a54f55b472659a4\n",
            "  Stored in directory: /root/.cache/pip/wheels/0b/90/c0/01de724414ef122bd05f056541fb6a0ecf47c7ca655f8b3c0f\n",
            "Successfully built pyspark\n",
            "Installing collected packages: py4j, pyspark\n",
            "Successfully installed py4j-0.10.9 pyspark-3.1.1\n"
          ],
          "name": "stdout"
        }
      ]
    },
    {
      "cell_type": "markdown",
      "metadata": {
        "id": "HT-1Jhgc6wpv"
      },
      "source": [
        "#### Creating Pyspark sessions"
      ]
    },
    {
      "cell_type": "code",
      "metadata": {
        "id": "Qs50XDfe3qzJ"
      },
      "source": [
        "from pyspark.sql import SparkSession"
      ],
      "execution_count": 4,
      "outputs": []
    },
    {
      "cell_type": "code",
      "metadata": {
        "id": "NWBvs3H14asd"
      },
      "source": [
        "spark = SparkSession.builder.appName('DataFrame_Practice').getOrCreate()"
      ],
      "execution_count": 5,
      "outputs": []
    },
    {
      "cell_type": "code",
      "metadata": {
        "colab": {
          "base_uri": "https://localhost:8080/",
          "height": 216
        },
        "id": "vrgXNhnS4r9w",
        "outputId": "c7316a95-bca0-4c44-fce7-e3118821e8eb"
      },
      "source": [
        "spark"
      ],
      "execution_count": 6,
      "outputs": [
        {
          "output_type": "execute_result",
          "data": {
            "text/html": [
              "\n",
              "            <div>\n",
              "                <p><b>SparkSession - in-memory</b></p>\n",
              "                \n",
              "        <div>\n",
              "            <p><b>SparkContext</b></p>\n",
              "\n",
              "            <p><a href=\"http://e04f566d46f2:4040\">Spark UI</a></p>\n",
              "\n",
              "            <dl>\n",
              "              <dt>Version</dt>\n",
              "                <dd><code>v3.1.1</code></dd>\n",
              "              <dt>Master</dt>\n",
              "                <dd><code>local[*]</code></dd>\n",
              "              <dt>AppName</dt>\n",
              "                <dd><code>DataFrame_Practice</code></dd>\n",
              "            </dl>\n",
              "        </div>\n",
              "        \n",
              "            </div>\n",
              "        "
            ],
            "text/plain": [
              "<pyspark.sql.session.SparkSession at 0x7fd399d0d390>"
            ]
          },
          "metadata": {
            "tags": []
          },
          "execution_count": 6
        }
      ]
    },
    {
      "cell_type": "code",
      "metadata": {
        "id": "cWtwM2FR4yiL"
      },
      "source": [
        "import pandas as pd"
      ],
      "execution_count": 9,
      "outputs": []
    },
    {
      "cell_type": "code",
      "metadata": {
        "id": "QtdPT0mK38ZT"
      },
      "source": [
        "data = [['Tom', 54, 120000],['Harry',23, 40000],['Charles',45,90000],['Wanda',32,50000]]"
      ],
      "execution_count": 7,
      "outputs": []
    },
    {
      "cell_type": "code",
      "metadata": {
        "id": "L-Rx6xxy39HN"
      },
      "source": [
        "df = pd.DataFrame(data=data, columns=['Name','Age','Salary'])"
      ],
      "execution_count": 10,
      "outputs": []
    },
    {
      "cell_type": "code",
      "metadata": {
        "id": "0RqGXDGy4LMc"
      },
      "source": [
        "df.to_csv('test_df.csv')"
      ],
      "execution_count": 11,
      "outputs": []
    },
    {
      "cell_type": "markdown",
      "metadata": {
        "id": "XbMH33iJ4-fW"
      },
      "source": [
        "##### Reading the dataset"
      ]
    },
    {
      "cell_type": "code",
      "metadata": {
        "id": "Ey0YppvK46FG"
      },
      "source": [
        "df_pyspark = spark.read.option('header','true').csv('test_df.csv')"
      ],
      "execution_count": 15,
      "outputs": []
    },
    {
      "cell_type": "code",
      "metadata": {
        "colab": {
          "base_uri": "https://localhost:8080/"
        },
        "id": "gaOTGsNG5O-e",
        "outputId": "67011409-5465-4bbe-97d9-c5baee375399"
      },
      "source": [
        "spark.read.option('header','true').csv('test_df.csv').show()"
      ],
      "execution_count": 13,
      "outputs": [
        {
          "output_type": "stream",
          "text": [
            "+---+-------+---+------+\n",
            "|_c0|   Name|Age|Salary|\n",
            "+---+-------+---+------+\n",
            "|  0|    Tom| 54|120000|\n",
            "|  1|  Harry| 23| 40000|\n",
            "|  2|Charles| 45| 90000|\n",
            "|  3|  Wanda| 32| 50000|\n",
            "+---+-------+---+------+\n",
            "\n"
          ],
          "name": "stdout"
        }
      ]
    },
    {
      "cell_type": "code",
      "metadata": {
        "colab": {
          "base_uri": "https://localhost:8080/"
        },
        "id": "KaMbzAAv5Tjc",
        "outputId": "9786dd6a-0f46-44ac-f398-333d3320d14e"
      },
      "source": [
        "#### Check the schema\n",
        "df_pyspark.printSchema()"
      ],
      "execution_count": 16,
      "outputs": [
        {
          "output_type": "stream",
          "text": [
            "root\n",
            " |-- _c0: string (nullable = true)\n",
            " |-- Name: string (nullable = true)\n",
            " |-- Age: string (nullable = true)\n",
            " |-- Salary: string (nullable = true)\n",
            "\n"
          ],
          "name": "stdout"
        }
      ]
    },
    {
      "cell_type": "markdown",
      "metadata": {
        "id": "kG4VJBD664Fh"
      },
      "source": [
        "#### Two ways to read CSV"
      ]
    },
    {
      "cell_type": "code",
      "metadata": {
        "id": "zBahpASs5XTs"
      },
      "source": [
        "df_pyspark = spark.read.option('header','true').csv('test_df.csv',inferSchema=True)"
      ],
      "execution_count": 40,
      "outputs": []
    },
    {
      "cell_type": "code",
      "metadata": {
        "colab": {
          "base_uri": "https://localhost:8080/"
        },
        "id": "o6-9a3Oq5nxf",
        "outputId": "bdb503a3-be90-4df3-e01c-d7933661eee2"
      },
      "source": [
        "df_pyspark.printSchema()"
      ],
      "execution_count": 19,
      "outputs": [
        {
          "output_type": "stream",
          "text": [
            "root\n",
            " |-- _c0: integer (nullable = true)\n",
            " |-- Name: string (nullable = true)\n",
            " |-- Age: integer (nullable = true)\n",
            " |-- Salary: integer (nullable = true)\n",
            "\n"
          ],
          "name": "stdout"
        }
      ]
    },
    {
      "cell_type": "code",
      "metadata": {
        "id": "kketfZvQ5xX4"
      },
      "source": [
        "df_pyspark = spark.read.csv('test_df.csv',header=True,inferSchema=True)"
      ],
      "execution_count": 53,
      "outputs": []
    },
    {
      "cell_type": "code",
      "metadata": {
        "colab": {
          "base_uri": "https://localhost:8080/"
        },
        "id": "yS7y-R6m58-I",
        "outputId": "25414c5f-9961-4987-95b0-43e5cf13e625"
      },
      "source": [
        "df_pyspark.printSchema()"
      ],
      "execution_count": 25,
      "outputs": [
        {
          "output_type": "stream",
          "text": [
            "root\n",
            " |-- _c0: integer (nullable = true)\n",
            " |-- Name: string (nullable = true)\n",
            " |-- Age: integer (nullable = true)\n",
            " |-- Salary: integer (nullable = true)\n",
            "\n"
          ],
          "name": "stdout"
        }
      ]
    },
    {
      "cell_type": "code",
      "metadata": {
        "colab": {
          "base_uri": "https://localhost:8080/"
        },
        "id": "6NWOJdns6IeS",
        "outputId": "efd6bb5e-9705-4dce-f045-be9c09844c03"
      },
      "source": [
        "type(df_pyspark)"
      ],
      "execution_count": 26,
      "outputs": [
        {
          "output_type": "execute_result",
          "data": {
            "text/plain": [
              "pyspark.sql.dataframe.DataFrame"
            ]
          },
          "metadata": {
            "tags": []
          },
          "execution_count": 26
        }
      ]
    },
    {
      "cell_type": "markdown",
      "metadata": {
        "id": "ct6eixLJ69bS"
      },
      "source": [
        "#### Get column names"
      ]
    },
    {
      "cell_type": "code",
      "metadata": {
        "colab": {
          "base_uri": "https://localhost:8080/"
        },
        "id": "UFbsbOL16Te5",
        "outputId": "5447b51c-8ec1-41c0-c42d-48dd9e508a7f"
      },
      "source": [
        "df_pyspark.columns"
      ],
      "execution_count": 27,
      "outputs": [
        {
          "output_type": "execute_result",
          "data": {
            "text/plain": [
              "['_c0', 'Name', 'Age', 'Salary']"
            ]
          },
          "metadata": {
            "tags": []
          },
          "execution_count": 27
        }
      ]
    },
    {
      "cell_type": "code",
      "metadata": {
        "colab": {
          "base_uri": "https://localhost:8080/"
        },
        "id": "vj4PT31t6dVk",
        "outputId": "91b45425-7528-4717-d739-8dabadd8a714"
      },
      "source": [
        "df_pyspark.head()"
      ],
      "execution_count": 28,
      "outputs": [
        {
          "output_type": "execute_result",
          "data": {
            "text/plain": [
              "Row(_c0=0, Name='Tom', Age=54, Salary=120000)"
            ]
          },
          "metadata": {
            "tags": []
          },
          "execution_count": 28
        }
      ]
    },
    {
      "cell_type": "code",
      "metadata": {
        "colab": {
          "base_uri": "https://localhost:8080/"
        },
        "id": "aJncsI-l6gwX",
        "outputId": "62b57c37-e211-4233-86e7-8ae20dbb657d"
      },
      "source": [
        "df_pyspark.head(3)"
      ],
      "execution_count": 30,
      "outputs": [
        {
          "output_type": "execute_result",
          "data": {
            "text/plain": [
              "[Row(_c0=0, Name='Tom', Age=54, Salary=120000),\n",
              " Row(_c0=1, Name='Harry', Age=23, Salary=40000),\n",
              " Row(_c0=2, Name='Charles', Age=45, Salary=90000)]"
            ]
          },
          "metadata": {
            "tags": []
          },
          "execution_count": 30
        }
      ]
    },
    {
      "cell_type": "code",
      "metadata": {
        "colab": {
          "base_uri": "https://localhost:8080/"
        },
        "id": "gXRnGHpf6jYi",
        "outputId": "e1f46234-2f7f-4bac-c893-d7ee49717ab0"
      },
      "source": [
        "df_pyspark.show()"
      ],
      "execution_count": 42,
      "outputs": [
        {
          "output_type": "stream",
          "text": [
            "+---+-------+---+------+\n",
            "|_c0|   Name|Age|Salary|\n",
            "+---+-------+---+------+\n",
            "|  0|    Tom| 54|120000|\n",
            "|  1|  Harry| 23| 40000|\n",
            "|  2|Charles| 45| 90000|\n",
            "|  3|  Wanda| 32| 50000|\n",
            "+---+-------+---+------+\n",
            "\n"
          ],
          "name": "stdout"
        }
      ]
    },
    {
      "cell_type": "markdown",
      "metadata": {
        "id": "OtEbomQw7CBY"
      },
      "source": [
        "#### Select dataframe column"
      ]
    },
    {
      "cell_type": "code",
      "metadata": {
        "colab": {
          "base_uri": "https://localhost:8080/"
        },
        "id": "61QrQy-V6qOi",
        "outputId": "b0bd353e-f4b5-43e4-99d3-f0af498c7434"
      },
      "source": [
        "df_pyspark.select('Name')"
      ],
      "execution_count": 33,
      "outputs": [
        {
          "output_type": "execute_result",
          "data": {
            "text/plain": [
              "DataFrame[Name: string]"
            ]
          },
          "metadata": {
            "tags": []
          },
          "execution_count": 33
        }
      ]
    },
    {
      "cell_type": "code",
      "metadata": {
        "colab": {
          "base_uri": "https://localhost:8080/"
        },
        "id": "1BW9fcPE7K6k",
        "outputId": "8871a5f9-4cad-4dba-87de-bbfdc358b476"
      },
      "source": [
        "df_pyspark.select('Name').show()"
      ],
      "execution_count": 34,
      "outputs": [
        {
          "output_type": "stream",
          "text": [
            "+-------+\n",
            "|   Name|\n",
            "+-------+\n",
            "|    Tom|\n",
            "|  Harry|\n",
            "|Charles|\n",
            "|  Wanda|\n",
            "+-------+\n",
            "\n"
          ],
          "name": "stdout"
        }
      ]
    },
    {
      "cell_type": "code",
      "metadata": {
        "colab": {
          "base_uri": "https://localhost:8080/"
        },
        "id": "4kRtNqXv7OJN",
        "outputId": "d9cb3be5-9f0a-43f3-8270-14d8b9408e78"
      },
      "source": [
        "df_pyspark.select('Name','Age').show()"
      ],
      "execution_count": 35,
      "outputs": [
        {
          "output_type": "stream",
          "text": [
            "+-------+---+\n",
            "|   Name|Age|\n",
            "+-------+---+\n",
            "|    Tom| 54|\n",
            "|  Harry| 23|\n",
            "|Charles| 45|\n",
            "|  Wanda| 32|\n",
            "+-------+---+\n",
            "\n"
          ],
          "name": "stdout"
        }
      ]
    },
    {
      "cell_type": "markdown",
      "metadata": {
        "id": "EreJWdWG7sjj"
      },
      "source": [
        "#### DataTypes"
      ]
    },
    {
      "cell_type": "code",
      "metadata": {
        "colab": {
          "base_uri": "https://localhost:8080/"
        },
        "id": "rKLigUdc7Tqk",
        "outputId": "de0a7ba5-b6fe-4410-c1f1-fc8cd1e5908a"
      },
      "source": [
        "df_pyspark.dtypes"
      ],
      "execution_count": 36,
      "outputs": [
        {
          "output_type": "execute_result",
          "data": {
            "text/plain": [
              "[('_c0', 'int'), ('Name', 'string'), ('Age', 'int'), ('Salary', 'int')]"
            ]
          },
          "metadata": {
            "tags": []
          },
          "execution_count": 36
        }
      ]
    },
    {
      "cell_type": "code",
      "metadata": {
        "colab": {
          "base_uri": "https://localhost:8080/"
        },
        "id": "Kaj8hUfH7xU_",
        "outputId": "a1a7973b-f001-4a7f-f7a3-fc54a67121be"
      },
      "source": [
        "df_pyspark.describe()"
      ],
      "execution_count": 37,
      "outputs": [
        {
          "output_type": "execute_result",
          "data": {
            "text/plain": [
              "DataFrame[summary: string, _c0: string, Name: string, Age: string, Salary: string]"
            ]
          },
          "metadata": {
            "tags": []
          },
          "execution_count": 37
        }
      ]
    },
    {
      "cell_type": "code",
      "metadata": {
        "colab": {
          "base_uri": "https://localhost:8080/"
        },
        "id": "UD2Y0veh70Yp",
        "outputId": "6a9774f4-b9dc-4e60-a685-ed4a62a49e38"
      },
      "source": [
        "df_pyspark.describe().show()"
      ],
      "execution_count": 38,
      "outputs": [
        {
          "output_type": "stream",
          "text": [
            "+-------+------------------+-------+------------------+-----------------+\n",
            "|summary|               _c0|   Name|               Age|           Salary|\n",
            "+-------+------------------+-------+------------------+-----------------+\n",
            "|  count|                 4|      4|                 4|                4|\n",
            "|   mean|               1.5|   null|              38.5|          75000.0|\n",
            "| stddev|1.2909944487358056|   null|13.723459233492601|36968.45502136472|\n",
            "|    min|                 0|Charles|                23|            40000|\n",
            "|    max|                 3|  Wanda|                54|           120000|\n",
            "+-------+------------------+-------+------------------+-----------------+\n",
            "\n"
          ],
          "name": "stdout"
        }
      ]
    },
    {
      "cell_type": "markdown",
      "metadata": {
        "id": "MdmKBA0L8Ucv"
      },
      "source": [
        "#### Add or Drop Columns"
      ]
    },
    {
      "cell_type": "code",
      "metadata": {
        "id": "jV8YgKIA74st"
      },
      "source": [
        "df_pyspark = df_pyspark.withColumn('Salary with Bonus',df_pyspark['Salary']*1.05)"
      ],
      "execution_count": 54,
      "outputs": []
    },
    {
      "cell_type": "code",
      "metadata": {
        "colab": {
          "base_uri": "https://localhost:8080/"
        },
        "id": "F7WUhasU8uJo",
        "outputId": "3bfd8977-a59a-404a-ee30-737234310a3a"
      },
      "source": [
        "df_pyspark.show()"
      ],
      "execution_count": 55,
      "outputs": [
        {
          "output_type": "stream",
          "text": [
            "+---+-------+---+------+-----------------+\n",
            "|_c0|   Name|Age|Salary|Salary with Bonus|\n",
            "+---+-------+---+------+-----------------+\n",
            "|  0|    Tom| 54|120000|         126000.0|\n",
            "|  1|  Harry| 23| 40000|          42000.0|\n",
            "|  2|Charles| 45| 90000|          94500.0|\n",
            "|  3|  Wanda| 32| 50000|          52500.0|\n",
            "+---+-------+---+------+-----------------+\n",
            "\n"
          ],
          "name": "stdout"
        }
      ]
    },
    {
      "cell_type": "code",
      "metadata": {
        "colab": {
          "base_uri": "https://localhost:8080/"
        },
        "id": "RJaBWB1W9Fqr",
        "outputId": "b1a8b799-7ee1-4ea7-d464-2343eb9215fb"
      },
      "source": [
        "df_pyspark.drop('Salary with Bonus').show()"
      ],
      "execution_count": 56,
      "outputs": [
        {
          "output_type": "stream",
          "text": [
            "+---+-------+---+------+\n",
            "|_c0|   Name|Age|Salary|\n",
            "+---+-------+---+------+\n",
            "|  0|    Tom| 54|120000|\n",
            "|  1|  Harry| 23| 40000|\n",
            "|  2|Charles| 45| 90000|\n",
            "|  3|  Wanda| 32| 50000|\n",
            "+---+-------+---+------+\n",
            "\n"
          ],
          "name": "stdout"
        }
      ]
    },
    {
      "cell_type": "code",
      "metadata": {
        "colab": {
          "base_uri": "https://localhost:8080/"
        },
        "id": "0_9X6xwo9Yb3",
        "outputId": "2b5ea26f-db29-4682-c888-597523e2f606"
      },
      "source": [
        "df_pyspark.show()"
      ],
      "execution_count": 57,
      "outputs": [
        {
          "output_type": "stream",
          "text": [
            "+---+-------+---+------+-----------------+\n",
            "|_c0|   Name|Age|Salary|Salary with Bonus|\n",
            "+---+-------+---+------+-----------------+\n",
            "|  0|    Tom| 54|120000|         126000.0|\n",
            "|  1|  Harry| 23| 40000|          42000.0|\n",
            "|  2|Charles| 45| 90000|          94500.0|\n",
            "|  3|  Wanda| 32| 50000|          52500.0|\n",
            "+---+-------+---+------+-----------------+\n",
            "\n"
          ],
          "name": "stdout"
        }
      ]
    },
    {
      "cell_type": "code",
      "metadata": {
        "id": "0cmzO2c-95dN"
      },
      "source": [
        "df_pyspark = df_pyspark.drop('Salary with Bonus')"
      ],
      "execution_count": 58,
      "outputs": []
    },
    {
      "cell_type": "code",
      "metadata": {
        "colab": {
          "base_uri": "https://localhost:8080/"
        },
        "id": "1uOWj2B29-Pl",
        "outputId": "2d4cb2da-5059-4787-97df-ee088bc939ea"
      },
      "source": [
        "df_pyspark.show()"
      ],
      "execution_count": 59,
      "outputs": [
        {
          "output_type": "stream",
          "text": [
            "+---+-------+---+------+\n",
            "|_c0|   Name|Age|Salary|\n",
            "+---+-------+---+------+\n",
            "|  0|    Tom| 54|120000|\n",
            "|  1|  Harry| 23| 40000|\n",
            "|  2|Charles| 45| 90000|\n",
            "|  3|  Wanda| 32| 50000|\n",
            "+---+-------+---+------+\n",
            "\n"
          ],
          "name": "stdout"
        }
      ]
    },
    {
      "cell_type": "markdown",
      "metadata": {
        "id": "RbF5TQuc-F5p"
      },
      "source": [
        "#### Reaname Column"
      ]
    },
    {
      "cell_type": "code",
      "metadata": {
        "colab": {
          "base_uri": "https://localhost:8080/"
        },
        "id": "zY5H0lou-Aey",
        "outputId": "50017b93-dbf6-46dd-a68c-03329fe08a41"
      },
      "source": [
        "df_pyspark.withColumnRenamed('Name','First Name').show()"
      ],
      "execution_count": 60,
      "outputs": [
        {
          "output_type": "stream",
          "text": [
            "+---+----------+---+------+\n",
            "|_c0|First Name|Age|Salary|\n",
            "+---+----------+---+------+\n",
            "|  0|       Tom| 54|120000|\n",
            "|  1|     Harry| 23| 40000|\n",
            "|  2|   Charles| 45| 90000|\n",
            "|  3|     Wanda| 32| 50000|\n",
            "+---+----------+---+------+\n",
            "\n"
          ],
          "name": "stdout"
        }
      ]
    },
    {
      "cell_type": "code",
      "metadata": {
        "id": "l0UeQZCK-UwS"
      },
      "source": [
        ""
      ],
      "execution_count": null,
      "outputs": []
    }
  ]
}