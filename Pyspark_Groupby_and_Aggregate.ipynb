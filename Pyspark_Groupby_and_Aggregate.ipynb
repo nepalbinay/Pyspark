{
  "nbformat": 4,
  "nbformat_minor": 0,
  "metadata": {
    "colab": {
      "name": "Pyspark Groupby and Aggregate",
      "provenance": []
    },
    "kernelspec": {
      "name": "python3",
      "display_name": "Python 3"
    },
    "language_info": {
      "name": "python"
    }
  },
  "cells": [
    {
      "cell_type": "code",
      "metadata": {
        "id": "Z-m9zO0GAcNi"
      },
      "source": [
        "import pandas as pd"
      ],
      "execution_count": 1,
      "outputs": []
    },
    {
      "cell_type": "code",
      "metadata": {
        "id": "M0CWVQ-kAd8P"
      },
      "source": [
        "data = {'Name':['Anthony','Steve','Sarah','John','Bucky','Tony','Pepper']\n",
        "        ,'Department':['Sales','IT','Engineering','Engineering','Marketing','IT','Sales']\n",
        "        ,'Salary':[60000,80000,55000,74000,65200,88520,71225]\n",
        "        ,'Age':[25,23,24,30,31,35,37]}\n",
        "\n",
        "df = pd.DataFrame(data=data)"
      ],
      "execution_count": 26,
      "outputs": []
    },
    {
      "cell_type": "code",
      "metadata": {
        "colab": {
          "base_uri": "https://localhost:8080/",
          "height": 266
        },
        "id": "zCn2PRQ1BNoG",
        "outputId": "56babbe1-2df8-46c3-ccce-5442b6e37700"
      },
      "source": [
        "df"
      ],
      "execution_count": 27,
      "outputs": [
        {
          "output_type": "execute_result",
          "data": {
            "text/html": [
              "<div>\n",
              "<style scoped>\n",
              "    .dataframe tbody tr th:only-of-type {\n",
              "        vertical-align: middle;\n",
              "    }\n",
              "\n",
              "    .dataframe tbody tr th {\n",
              "        vertical-align: top;\n",
              "    }\n",
              "\n",
              "    .dataframe thead th {\n",
              "        text-align: right;\n",
              "    }\n",
              "</style>\n",
              "<table border=\"1\" class=\"dataframe\">\n",
              "  <thead>\n",
              "    <tr style=\"text-align: right;\">\n",
              "      <th></th>\n",
              "      <th>Name</th>\n",
              "      <th>Department</th>\n",
              "      <th>Salary</th>\n",
              "      <th>Age</th>\n",
              "    </tr>\n",
              "  </thead>\n",
              "  <tbody>\n",
              "    <tr>\n",
              "      <th>0</th>\n",
              "      <td>Anthony</td>\n",
              "      <td>Sales</td>\n",
              "      <td>60000</td>\n",
              "      <td>25</td>\n",
              "    </tr>\n",
              "    <tr>\n",
              "      <th>1</th>\n",
              "      <td>Steve</td>\n",
              "      <td>IT</td>\n",
              "      <td>80000</td>\n",
              "      <td>23</td>\n",
              "    </tr>\n",
              "    <tr>\n",
              "      <th>2</th>\n",
              "      <td>Sarah</td>\n",
              "      <td>Engineering</td>\n",
              "      <td>55000</td>\n",
              "      <td>24</td>\n",
              "    </tr>\n",
              "    <tr>\n",
              "      <th>3</th>\n",
              "      <td>John</td>\n",
              "      <td>Engineering</td>\n",
              "      <td>74000</td>\n",
              "      <td>30</td>\n",
              "    </tr>\n",
              "    <tr>\n",
              "      <th>4</th>\n",
              "      <td>Bucky</td>\n",
              "      <td>Marketing</td>\n",
              "      <td>65200</td>\n",
              "      <td>31</td>\n",
              "    </tr>\n",
              "    <tr>\n",
              "      <th>5</th>\n",
              "      <td>Tony</td>\n",
              "      <td>IT</td>\n",
              "      <td>88520</td>\n",
              "      <td>35</td>\n",
              "    </tr>\n",
              "    <tr>\n",
              "      <th>6</th>\n",
              "      <td>Pepper</td>\n",
              "      <td>Sales</td>\n",
              "      <td>71225</td>\n",
              "      <td>37</td>\n",
              "    </tr>\n",
              "  </tbody>\n",
              "</table>\n",
              "</div>"
            ],
            "text/plain": [
              "      Name   Department  Salary  Age\n",
              "0  Anthony        Sales   60000   25\n",
              "1    Steve           IT   80000   23\n",
              "2    Sarah  Engineering   55000   24\n",
              "3     John  Engineering   74000   30\n",
              "4    Bucky    Marketing   65200   31\n",
              "5     Tony           IT   88520   35\n",
              "6   Pepper        Sales   71225   37"
            ]
          },
          "metadata": {
            "tags": []
          },
          "execution_count": 27
        }
      ]
    },
    {
      "cell_type": "code",
      "metadata": {
        "id": "x4pgY8sIBqMY"
      },
      "source": [
        "df.to_csv('file1.csv')"
      ],
      "execution_count": 28,
      "outputs": []
    },
    {
      "cell_type": "code",
      "metadata": {
        "colab": {
          "base_uri": "https://localhost:8080/"
        },
        "id": "KG1n0AskBrsj",
        "outputId": "9b7ea67e-0059-4d94-ecaa-3dd527ecc442"
      },
      "source": [
        "!pip install pyspark"
      ],
      "execution_count": 19,
      "outputs": [
        {
          "output_type": "stream",
          "text": [
            "Requirement already satisfied: pyspark in /usr/local/lib/python3.7/dist-packages (3.1.1)\n",
            "Requirement already satisfied: py4j==0.10.9 in /usr/local/lib/python3.7/dist-packages (from pyspark) (0.10.9)\n"
          ],
          "name": "stdout"
        }
      ]
    },
    {
      "cell_type": "code",
      "metadata": {
        "id": "3bCn8S3iCJe_"
      },
      "source": [
        "from pyspark.sql import SparkSession"
      ],
      "execution_count": 20,
      "outputs": []
    },
    {
      "cell_type": "code",
      "metadata": {
        "id": "_xtA2hu5CQRM"
      },
      "source": [
        "spark = SparkSession.builder.appName('Aggregate').getOrCreate()"
      ],
      "execution_count": 21,
      "outputs": []
    },
    {
      "cell_type": "code",
      "metadata": {
        "colab": {
          "base_uri": "https://localhost:8080/",
          "height": 216
        },
        "id": "YdpsU6FYCfMi",
        "outputId": "6e8a0d4c-c3a3-4924-8771-0d6be70231d1"
      },
      "source": [
        "spark"
      ],
      "execution_count": 22,
      "outputs": [
        {
          "output_type": "execute_result",
          "data": {
            "text/html": [
              "\n",
              "            <div>\n",
              "                <p><b>SparkSession - in-memory</b></p>\n",
              "                \n",
              "        <div>\n",
              "            <p><b>SparkContext</b></p>\n",
              "\n",
              "            <p><a href=\"http://dd0fb3e5be89:4040\">Spark UI</a></p>\n",
              "\n",
              "            <dl>\n",
              "              <dt>Version</dt>\n",
              "                <dd><code>v3.1.1</code></dd>\n",
              "              <dt>Master</dt>\n",
              "                <dd><code>local[*]</code></dd>\n",
              "              <dt>AppName</dt>\n",
              "                <dd><code>Aggregate</code></dd>\n",
              "            </dl>\n",
              "        </div>\n",
              "        \n",
              "            </div>\n",
              "        "
            ],
            "text/plain": [
              "<pyspark.sql.session.SparkSession at 0x7ff47c6665d0>"
            ]
          },
          "metadata": {
            "tags": []
          },
          "execution_count": 22
        }
      ]
    },
    {
      "cell_type": "code",
      "metadata": {
        "id": "wlziuFvgCnac"
      },
      "source": [
        "df_pyspark = spark.read.csv('file1.csv',header=True,inferSchema=True)"
      ],
      "execution_count": 29,
      "outputs": []
    },
    {
      "cell_type": "code",
      "metadata": {
        "colab": {
          "base_uri": "https://localhost:8080/"
        },
        "id": "L-A4VAE8Czz_",
        "outputId": "9d6375ce-faeb-45e7-9b9c-77256c649f7d"
      },
      "source": [
        "df_pyspark.show()"
      ],
      "execution_count": 30,
      "outputs": [
        {
          "output_type": "stream",
          "text": [
            "+---+-------+-----------+------+---+\n",
            "|_c0|   Name| Department|Salary|Age|\n",
            "+---+-------+-----------+------+---+\n",
            "|  0|Anthony|      Sales| 60000| 25|\n",
            "|  1|  Steve|         IT| 80000| 23|\n",
            "|  2|  Sarah|Engineering| 55000| 24|\n",
            "|  3|   John|Engineering| 74000| 30|\n",
            "|  4|  Bucky|  Marketing| 65200| 31|\n",
            "|  5|   Tony|         IT| 88520| 35|\n",
            "|  6| Pepper|      Sales| 71225| 37|\n",
            "+---+-------+-----------+------+---+\n",
            "\n"
          ],
          "name": "stdout"
        }
      ]
    },
    {
      "cell_type": "code",
      "metadata": {
        "colab": {
          "base_uri": "https://localhost:8080/"
        },
        "id": "y5hSk6NbC7ZJ",
        "outputId": "350b6b58-4ca2-4446-9df7-5d4787c16122"
      },
      "source": [
        "df_pyspark.printSchema()"
      ],
      "execution_count": 31,
      "outputs": [
        {
          "output_type": "stream",
          "text": [
            "root\n",
            " |-- _c0: integer (nullable = true)\n",
            " |-- Name: string (nullable = true)\n",
            " |-- Department: string (nullable = true)\n",
            " |-- Salary: integer (nullable = true)\n",
            " |-- Age: integer (nullable = true)\n",
            "\n"
          ],
          "name": "stdout"
        }
      ]
    },
    {
      "cell_type": "markdown",
      "metadata": {
        "id": "EctCkFS4D4w9"
      },
      "source": [
        "#### Groupby "
      ]
    },
    {
      "cell_type": "code",
      "metadata": {
        "colab": {
          "base_uri": "https://localhost:8080/"
        },
        "id": "egzFfsgLDDhA",
        "outputId": "32255c45-1aeb-4044-af79-1a90a3757312"
      },
      "source": [
        "df_pyspark.groupby('Name').sum()"
      ],
      "execution_count": 32,
      "outputs": [
        {
          "output_type": "execute_result",
          "data": {
            "text/plain": [
              "DataFrame[Name: string, sum(_c0): bigint, sum(Salary): bigint, sum(Age): bigint]"
            ]
          },
          "metadata": {
            "tags": []
          },
          "execution_count": 32
        }
      ]
    },
    {
      "cell_type": "code",
      "metadata": {
        "colab": {
          "base_uri": "https://localhost:8080/"
        },
        "id": "XYxZxQTEEAZD",
        "outputId": "f156ef67-3145-468d-a30e-21ca079e9d2f"
      },
      "source": [
        "df_pyspark.groupby('Name').sum('Salary').show()"
      ],
      "execution_count": 34,
      "outputs": [
        {
          "output_type": "stream",
          "text": [
            "+-------+-----------+\n",
            "|   Name|sum(Salary)|\n",
            "+-------+-----------+\n",
            "|  Steve|      80000|\n",
            "|  Bucky|      65200|\n",
            "| Pepper|      71225|\n",
            "|  Sarah|      55000|\n",
            "|   John|      74000|\n",
            "|   Tony|      88520|\n",
            "|Anthony|      60000|\n",
            "+-------+-----------+\n",
            "\n"
          ],
          "name": "stdout"
        }
      ]
    },
    {
      "cell_type": "code",
      "metadata": {
        "colab": {
          "base_uri": "https://localhost:8080/"
        },
        "id": "r2BUKTPkEE58",
        "outputId": "21885e60-281d-4e9e-9153-dcb1dd6b6087"
      },
      "source": [
        "df_pyspark.groupby('Department').mean('Age').show()"
      ],
      "execution_count": 36,
      "outputs": [
        {
          "output_type": "stream",
          "text": [
            "+-----------+--------+\n",
            "| Department|avg(Age)|\n",
            "+-----------+--------+\n",
            "|      Sales|    31.0|\n",
            "|Engineering|    27.0|\n",
            "|  Marketing|    31.0|\n",
            "|         IT|    29.0|\n",
            "+-----------+--------+\n",
            "\n"
          ],
          "name": "stdout"
        }
      ]
    },
    {
      "cell_type": "code",
      "metadata": {
        "colab": {
          "base_uri": "https://localhost:8080/"
        },
        "id": "lgrjSWlXEQJ9",
        "outputId": "4834fab4-358f-42b7-d442-a615163d8184"
      },
      "source": [
        "df_pyspark.groupby('Department').count().show()"
      ],
      "execution_count": 38,
      "outputs": [
        {
          "output_type": "stream",
          "text": [
            "+-----------+-----+\n",
            "| Department|count|\n",
            "+-----------+-----+\n",
            "|      Sales|    2|\n",
            "|Engineering|    2|\n",
            "|  Marketing|    1|\n",
            "|         IT|    2|\n",
            "+-----------+-----+\n",
            "\n"
          ],
          "name": "stdout"
        }
      ]
    },
    {
      "cell_type": "code",
      "metadata": {
        "colab": {
          "base_uri": "https://localhost:8080/"
        },
        "id": "y3BzKbxbFALD",
        "outputId": "a9ac0c7a-e09e-4751-f595-0d1db10b884a"
      },
      "source": [
        "df_pyspark.groupby().sum('Salary').show()"
      ],
      "execution_count": 40,
      "outputs": [
        {
          "output_type": "stream",
          "text": [
            "+-----------+\n",
            "|sum(Salary)|\n",
            "+-----------+\n",
            "|     493945|\n",
            "+-----------+\n",
            "\n"
          ],
          "name": "stdout"
        }
      ]
    },
    {
      "cell_type": "code",
      "metadata": {
        "colab": {
          "base_uri": "https://localhost:8080/"
        },
        "id": "l2E-trmMFXFn",
        "outputId": "c205f514-3930-4d5a-9747-78b8fd813b68"
      },
      "source": [
        "df_pyspark.agg({'Salary':'Sum'}).show()"
      ],
      "execution_count": 41,
      "outputs": [
        {
          "output_type": "stream",
          "text": [
            "+-----------+\n",
            "|sum(Salary)|\n",
            "+-----------+\n",
            "|     493945|\n",
            "+-----------+\n",
            "\n"
          ],
          "name": "stdout"
        }
      ]
    },
    {
      "cell_type": "code",
      "metadata": {
        "id": "RRuQqDeQFnwS"
      },
      "source": [
        ""
      ],
      "execution_count": null,
      "outputs": []
    }
  ]
}