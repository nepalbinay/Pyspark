{
  "nbformat": 4,
  "nbformat_minor": 0,
  "metadata": {
    "colab": {
      "name": "Pyspark Handling Missing Values & Filter.ipynb",
      "provenance": []
    },
    "kernelspec": {
      "name": "python3",
      "display_name": "Python 3"
    },
    "language_info": {
      "name": "python"
    }
  },
  "cells": [
    {
      "cell_type": "code",
      "metadata": {
        "id": "FT9xFM0ckdbU"
      },
      "source": [
        "import pandas as pd\n",
        "import numpy as np\n"
      ],
      "execution_count": 2,
      "outputs": []
    },
    {
      "cell_type": "code",
      "metadata": {
        "id": "1XnL9fjPkjpE"
      },
      "source": [
        "df = pd.DataFrame({'Name':['John','Peter','Monica','Missy','Sheldon','Adam','Rita','Craig',np.nan]\n",
        "                   ,'Age':[23,30,18,46,72,56,41,np.nan,33]\n",
        "                   ,'Salary':[np.nan,50000,65000,np.nan,70000,60000,62000,np.nan,75000]\n",
        "                   ,'Experience':[1,6,np.nan,12,20,8,12,np.nan,11]})"
      ],
      "execution_count": 10,
      "outputs": []
    },
    {
      "cell_type": "code",
      "metadata": {
        "colab": {
          "base_uri": "https://localhost:8080/",
          "height": 328
        },
        "id": "S0msY7tamAl_",
        "outputId": "c733ad52-cdc0-4abd-d4ce-638559b06cd8"
      },
      "source": [
        "df.head(10)"
      ],
      "execution_count": 11,
      "outputs": [
        {
          "output_type": "execute_result",
          "data": {
            "text/html": [
              "<div>\n",
              "<style scoped>\n",
              "    .dataframe tbody tr th:only-of-type {\n",
              "        vertical-align: middle;\n",
              "    }\n",
              "\n",
              "    .dataframe tbody tr th {\n",
              "        vertical-align: top;\n",
              "    }\n",
              "\n",
              "    .dataframe thead th {\n",
              "        text-align: right;\n",
              "    }\n",
              "</style>\n",
              "<table border=\"1\" class=\"dataframe\">\n",
              "  <thead>\n",
              "    <tr style=\"text-align: right;\">\n",
              "      <th></th>\n",
              "      <th>Name</th>\n",
              "      <th>Age</th>\n",
              "      <th>Salary</th>\n",
              "      <th>Experience</th>\n",
              "    </tr>\n",
              "  </thead>\n",
              "  <tbody>\n",
              "    <tr>\n",
              "      <th>0</th>\n",
              "      <td>John</td>\n",
              "      <td>23.0</td>\n",
              "      <td>NaN</td>\n",
              "      <td>1.0</td>\n",
              "    </tr>\n",
              "    <tr>\n",
              "      <th>1</th>\n",
              "      <td>Peter</td>\n",
              "      <td>30.0</td>\n",
              "      <td>50000.0</td>\n",
              "      <td>6.0</td>\n",
              "    </tr>\n",
              "    <tr>\n",
              "      <th>2</th>\n",
              "      <td>Monica</td>\n",
              "      <td>18.0</td>\n",
              "      <td>65000.0</td>\n",
              "      <td>NaN</td>\n",
              "    </tr>\n",
              "    <tr>\n",
              "      <th>3</th>\n",
              "      <td>Missy</td>\n",
              "      <td>46.0</td>\n",
              "      <td>NaN</td>\n",
              "      <td>12.0</td>\n",
              "    </tr>\n",
              "    <tr>\n",
              "      <th>4</th>\n",
              "      <td>Sheldon</td>\n",
              "      <td>72.0</td>\n",
              "      <td>70000.0</td>\n",
              "      <td>20.0</td>\n",
              "    </tr>\n",
              "    <tr>\n",
              "      <th>5</th>\n",
              "      <td>Adam</td>\n",
              "      <td>56.0</td>\n",
              "      <td>60000.0</td>\n",
              "      <td>8.0</td>\n",
              "    </tr>\n",
              "    <tr>\n",
              "      <th>6</th>\n",
              "      <td>Rita</td>\n",
              "      <td>41.0</td>\n",
              "      <td>62000.0</td>\n",
              "      <td>12.0</td>\n",
              "    </tr>\n",
              "    <tr>\n",
              "      <th>7</th>\n",
              "      <td>Craig</td>\n",
              "      <td>NaN</td>\n",
              "      <td>NaN</td>\n",
              "      <td>NaN</td>\n",
              "    </tr>\n",
              "    <tr>\n",
              "      <th>8</th>\n",
              "      <td>NaN</td>\n",
              "      <td>33.0</td>\n",
              "      <td>75000.0</td>\n",
              "      <td>11.0</td>\n",
              "    </tr>\n",
              "  </tbody>\n",
              "</table>\n",
              "</div>"
            ],
            "text/plain": [
              "      Name   Age   Salary  Experience\n",
              "0     John  23.0      NaN         1.0\n",
              "1    Peter  30.0  50000.0         6.0\n",
              "2   Monica  18.0  65000.0         NaN\n",
              "3    Missy  46.0      NaN        12.0\n",
              "4  Sheldon  72.0  70000.0        20.0\n",
              "5     Adam  56.0  60000.0         8.0\n",
              "6     Rita  41.0  62000.0        12.0\n",
              "7    Craig   NaN      NaN         NaN\n",
              "8      NaN  33.0  75000.0        11.0"
            ]
          },
          "metadata": {
            "tags": []
          },
          "execution_count": 11
        }
      ]
    },
    {
      "cell_type": "code",
      "metadata": {
        "id": "8NFpSVc9nRHN"
      },
      "source": [
        "df.to_csv('Test.csv')"
      ],
      "execution_count": 15,
      "outputs": []
    },
    {
      "cell_type": "code",
      "metadata": {
        "colab": {
          "base_uri": "https://localhost:8080/"
        },
        "id": "h9yPtEGImB3z",
        "outputId": "5befdd7a-5899-4893-c274-c2d3abcff076"
      },
      "source": [
        "!pip install pyspark"
      ],
      "execution_count": 12,
      "outputs": [
        {
          "output_type": "stream",
          "text": [
            "Collecting pyspark\n",
            "\u001b[?25l  Downloading https://files.pythonhosted.org/packages/45/b0/9d6860891ab14a39d4bddf80ba26ce51c2f9dc4805e5c6978ac0472c120a/pyspark-3.1.1.tar.gz (212.3MB)\n",
            "\u001b[K     |████████████████████████████████| 212.3MB 71kB/s \n",
            "\u001b[?25hCollecting py4j==0.10.9\n",
            "\u001b[?25l  Downloading https://files.pythonhosted.org/packages/9e/b6/6a4fb90cd235dc8e265a6a2067f2a2c99f0d91787f06aca4bcf7c23f3f80/py4j-0.10.9-py2.py3-none-any.whl (198kB)\n",
            "\u001b[K     |████████████████████████████████| 204kB 45.4MB/s \n",
            "\u001b[?25hBuilding wheels for collected packages: pyspark\n",
            "  Building wheel for pyspark (setup.py) ... \u001b[?25l\u001b[?25hdone\n",
            "  Created wheel for pyspark: filename=pyspark-3.1.1-py2.py3-none-any.whl size=212767604 sha256=5f5509e5643f9c75a8924c2600f8e05b2826889a14f3ee6c3e6fdb53140c1983\n",
            "  Stored in directory: /root/.cache/pip/wheels/0b/90/c0/01de724414ef122bd05f056541fb6a0ecf47c7ca655f8b3c0f\n",
            "Successfully built pyspark\n",
            "Installing collected packages: py4j, pyspark\n",
            "Successfully installed py4j-0.10.9 pyspark-3.1.1\n"
          ],
          "name": "stdout"
        }
      ]
    },
    {
      "cell_type": "code",
      "metadata": {
        "id": "spVphfb8m2D3"
      },
      "source": [
        "from pyspark.sql import SparkSession"
      ],
      "execution_count": 13,
      "outputs": []
    },
    {
      "cell_type": "code",
      "metadata": {
        "id": "CL9ozQeXnDws"
      },
      "source": [
        "spark = SparkSession.builder.appName('Practice').getOrCreate()"
      ],
      "execution_count": 14,
      "outputs": []
    },
    {
      "cell_type": "code",
      "metadata": {
        "colab": {
          "base_uri": "https://localhost:8080/"
        },
        "id": "QbX0U2VMnOBU",
        "outputId": "543a7ddc-c5c4-428e-ef42-bdf1daf94992"
      },
      "source": [
        "spark.read.csv('Test.csv',header=True,inferSchema=True)"
      ],
      "execution_count": 16,
      "outputs": [
        {
          "output_type": "execute_result",
          "data": {
            "text/plain": [
              "DataFrame[_c0: int, Name: string, Age: double, Salary: double, Experience: double]"
            ]
          },
          "metadata": {
            "tags": []
          },
          "execution_count": 16
        }
      ]
    },
    {
      "cell_type": "code",
      "metadata": {
        "colab": {
          "base_uri": "https://localhost:8080/"
        },
        "id": "MCthh6b_njTh",
        "outputId": "2dee85dc-5b0f-4f27-8eab-123cbc26a77c"
      },
      "source": [
        "spark.read.csv('Test.csv',header=True,inferSchema=True).show()"
      ],
      "execution_count": 17,
      "outputs": [
        {
          "output_type": "stream",
          "text": [
            "+---+-------+----+-------+----------+\n",
            "|_c0|   Name| Age| Salary|Experience|\n",
            "+---+-------+----+-------+----------+\n",
            "|  0|   John|23.0|   null|       1.0|\n",
            "|  1|  Peter|30.0|50000.0|       6.0|\n",
            "|  2| Monica|18.0|65000.0|      null|\n",
            "|  3|  Missy|46.0|   null|      12.0|\n",
            "|  4|Sheldon|72.0|70000.0|      20.0|\n",
            "|  5|   Adam|56.0|60000.0|       8.0|\n",
            "|  6|   Rita|41.0|62000.0|      12.0|\n",
            "|  7|  Craig|null|   null|      null|\n",
            "|  8|   null|33.0|75000.0|      11.0|\n",
            "+---+-------+----+-------+----------+\n",
            "\n"
          ],
          "name": "stdout"
        }
      ]
    },
    {
      "cell_type": "code",
      "metadata": {
        "id": "XD861b8KnnVi"
      },
      "source": [
        "df_spark = spark.read.csv('Test.csv',header=True,inferSchema=True)"
      ],
      "execution_count": 22,
      "outputs": []
    },
    {
      "cell_type": "code",
      "metadata": {
        "colab": {
          "base_uri": "https://localhost:8080/"
        },
        "id": "exCSLr3Op9lX",
        "outputId": "6d20aafd-d970-412e-c0a6-1a0387e54bb0"
      },
      "source": [
        "df_spark.show()"
      ],
      "execution_count": 20,
      "outputs": [
        {
          "output_type": "stream",
          "text": [
            "+---+-------+----+-------+----------+\n",
            "|_c0|   Name| Age| Salary|Experience|\n",
            "+---+-------+----+-------+----------+\n",
            "|  0|   John|23.0|   null|       1.0|\n",
            "|  1|  Peter|30.0|50000.0|       6.0|\n",
            "|  2| Monica|18.0|65000.0|      null|\n",
            "|  3|  Missy|46.0|   null|      12.0|\n",
            "|  4|Sheldon|72.0|70000.0|      20.0|\n",
            "|  5|   Adam|56.0|60000.0|       8.0|\n",
            "|  6|   Rita|41.0|62000.0|      12.0|\n",
            "|  7|  Craig|null|   null|      null|\n",
            "|  8|   null|33.0|75000.0|      11.0|\n",
            "+---+-------+----+-------+----------+\n",
            "\n"
          ],
          "name": "stdout"
        }
      ]
    },
    {
      "cell_type": "markdown",
      "metadata": {
        "id": "u4j9NPH9udO3"
      },
      "source": [
        "#### Drop NA"
      ]
    },
    {
      "cell_type": "code",
      "metadata": {
        "colab": {
          "base_uri": "https://localhost:8080/"
        },
        "id": "lFflpvOpqAxT",
        "outputId": "65b552a0-1f22-44e6-8ab2-72944ff9c730"
      },
      "source": [
        "df_spark.na.drop().show()"
      ],
      "execution_count": 25,
      "outputs": [
        {
          "output_type": "stream",
          "text": [
            "+---+-------+----+-------+----------+\n",
            "|_c0|   Name| Age| Salary|Experience|\n",
            "+---+-------+----+-------+----------+\n",
            "|  1|  Peter|30.0|50000.0|       6.0|\n",
            "|  4|Sheldon|72.0|70000.0|      20.0|\n",
            "|  5|   Adam|56.0|60000.0|       8.0|\n",
            "|  6|   Rita|41.0|62000.0|      12.0|\n",
            "+---+-------+----+-------+----------+\n",
            "\n"
          ],
          "name": "stdout"
        }
      ]
    },
    {
      "cell_type": "code",
      "metadata": {
        "colab": {
          "base_uri": "https://localhost:8080/"
        },
        "id": "sHv5daOduiEs",
        "outputId": "bfc35eab-eacd-49ce-a4e9-385ada6bdb4d"
      },
      "source": [
        "df_spark.na.drop(how=\"any\").show()"
      ],
      "execution_count": 26,
      "outputs": [
        {
          "output_type": "stream",
          "text": [
            "+---+-------+----+-------+----------+\n",
            "|_c0|   Name| Age| Salary|Experience|\n",
            "+---+-------+----+-------+----------+\n",
            "|  1|  Peter|30.0|50000.0|       6.0|\n",
            "|  4|Sheldon|72.0|70000.0|      20.0|\n",
            "|  5|   Adam|56.0|60000.0|       8.0|\n",
            "|  6|   Rita|41.0|62000.0|      12.0|\n",
            "+---+-------+----+-------+----------+\n",
            "\n"
          ],
          "name": "stdout"
        }
      ]
    },
    {
      "cell_type": "code",
      "metadata": {
        "colab": {
          "base_uri": "https://localhost:8080/"
        },
        "id": "F1qxngaNvp8S",
        "outputId": "d17b66ec-fafe-4bd8-b43c-0af41b7f3e25"
      },
      "source": [
        "df_spark.na.drop(how=\"all\").show()"
      ],
      "execution_count": 27,
      "outputs": [
        {
          "output_type": "stream",
          "text": [
            "+---+-------+----+-------+----------+\n",
            "|_c0|   Name| Age| Salary|Experience|\n",
            "+---+-------+----+-------+----------+\n",
            "|  0|   John|23.0|   null|       1.0|\n",
            "|  1|  Peter|30.0|50000.0|       6.0|\n",
            "|  2| Monica|18.0|65000.0|      null|\n",
            "|  3|  Missy|46.0|   null|      12.0|\n",
            "|  4|Sheldon|72.0|70000.0|      20.0|\n",
            "|  5|   Adam|56.0|60000.0|       8.0|\n",
            "|  6|   Rita|41.0|62000.0|      12.0|\n",
            "|  7|  Craig|null|   null|      null|\n",
            "|  8|   null|33.0|75000.0|      11.0|\n",
            "+---+-------+----+-------+----------+\n",
            "\n"
          ],
          "name": "stdout"
        }
      ]
    },
    {
      "cell_type": "code",
      "metadata": {
        "colab": {
          "base_uri": "https://localhost:8080/"
        },
        "id": "jNLQyJ-Ivs_q",
        "outputId": "3ba38ea7-2ec9-4851-9369-ea602db83526"
      },
      "source": [
        "df_spark.na.drop(how=\"any\",thresh=3).show() # threshold = 3 means at least 3 non-null value should be present"
      ],
      "execution_count": 30,
      "outputs": [
        {
          "output_type": "stream",
          "text": [
            "+---+-------+----+-------+----------+\n",
            "|_c0|   Name| Age| Salary|Experience|\n",
            "+---+-------+----+-------+----------+\n",
            "|  0|   John|23.0|   null|       1.0|\n",
            "|  1|  Peter|30.0|50000.0|       6.0|\n",
            "|  2| Monica|18.0|65000.0|      null|\n",
            "|  3|  Missy|46.0|   null|      12.0|\n",
            "|  4|Sheldon|72.0|70000.0|      20.0|\n",
            "|  5|   Adam|56.0|60000.0|       8.0|\n",
            "|  6|   Rita|41.0|62000.0|      12.0|\n",
            "|  8|   null|33.0|75000.0|      11.0|\n",
            "+---+-------+----+-------+----------+\n",
            "\n"
          ],
          "name": "stdout"
        }
      ]
    },
    {
      "cell_type": "code",
      "metadata": {
        "colab": {
          "base_uri": "https://localhost:8080/"
        },
        "id": "09zu1P6VwOMO",
        "outputId": "9afc27b3-96da-4605-c936-a947712cb3cd"
      },
      "source": [
        "df_spark.na.drop(how=\"any\",subset=['Salary']).show()"
      ],
      "execution_count": 31,
      "outputs": [
        {
          "output_type": "stream",
          "text": [
            "+---+-------+----+-------+----------+\n",
            "|_c0|   Name| Age| Salary|Experience|\n",
            "+---+-------+----+-------+----------+\n",
            "|  1|  Peter|30.0|50000.0|       6.0|\n",
            "|  2| Monica|18.0|65000.0|      null|\n",
            "|  4|Sheldon|72.0|70000.0|      20.0|\n",
            "|  5|   Adam|56.0|60000.0|       8.0|\n",
            "|  6|   Rita|41.0|62000.0|      12.0|\n",
            "|  8|   null|33.0|75000.0|      11.0|\n",
            "+---+-------+----+-------+----------+\n",
            "\n"
          ],
          "name": "stdout"
        }
      ]
    },
    {
      "cell_type": "markdown",
      "metadata": {
        "id": "3yacLDQHxrXM"
      },
      "source": [
        "#### Filling the Missing Value"
      ]
    },
    {
      "cell_type": "code",
      "metadata": {
        "colab": {
          "base_uri": "https://localhost:8080/"
        },
        "id": "b4wvuiR8xIGD",
        "outputId": "2b535a6e-739f-4d46-a205-b41f33af4a4e"
      },
      "source": [
        "df_spark.na.fill('-------').show()"
      ],
      "execution_count": 41,
      "outputs": [
        {
          "output_type": "stream",
          "text": [
            "+---+-------+----+-------+----------+\n",
            "|_c0|   Name| Age| Salary|Experience|\n",
            "+---+-------+----+-------+----------+\n",
            "|  0|   John|23.0|   null|       1.0|\n",
            "|  1|  Peter|30.0|50000.0|       6.0|\n",
            "|  2| Monica|18.0|65000.0|      null|\n",
            "|  3|  Missy|46.0|   null|      12.0|\n",
            "|  4|Sheldon|72.0|70000.0|      20.0|\n",
            "|  5|   Adam|56.0|60000.0|       8.0|\n",
            "|  6|   Rita|41.0|62000.0|      12.0|\n",
            "|  7|  Craig|null|   null|      null|\n",
            "|  8|-------|33.0|75000.0|      11.0|\n",
            "+---+-------+----+-------+----------+\n",
            "\n"
          ],
          "name": "stdout"
        }
      ]
    },
    {
      "cell_type": "code",
      "metadata": {
        "colab": {
          "base_uri": "https://localhost:8080/"
        },
        "id": "REfJzvFpx4cB",
        "outputId": "871e7aeb-69f5-43a6-e278-be61c95fe50f"
      },
      "source": [
        "df_spark.fillna('---').show()"
      ],
      "execution_count": 43,
      "outputs": [
        {
          "output_type": "stream",
          "text": [
            "+---+-------+----+-------+----------+\n",
            "|_c0|   Name| Age| Salary|Experience|\n",
            "+---+-------+----+-------+----------+\n",
            "|  0|   John|23.0|   null|       1.0|\n",
            "|  1|  Peter|30.0|50000.0|       6.0|\n",
            "|  2| Monica|18.0|65000.0|      null|\n",
            "|  3|  Missy|46.0|   null|      12.0|\n",
            "|  4|Sheldon|72.0|70000.0|      20.0|\n",
            "|  5|   Adam|56.0|60000.0|       8.0|\n",
            "|  6|   Rita|41.0|62000.0|      12.0|\n",
            "|  7|  Craig|null|   null|      null|\n",
            "|  8|    ---|33.0|75000.0|      11.0|\n",
            "+---+-------+----+-------+----------+\n",
            "\n"
          ],
          "name": "stdout"
        }
      ]
    },
    {
      "cell_type": "markdown",
      "metadata": {
        "id": "P-dogGHq0Ca8"
      },
      "source": [
        "#### Imputing Missing Values"
      ]
    },
    {
      "cell_type": "code",
      "metadata": {
        "id": "MWNZGap60pRL"
      },
      "source": [
        "from pyspark.ml.feature import Imputer"
      ],
      "execution_count": 44,
      "outputs": []
    },
    {
      "cell_type": "code",
      "metadata": {
        "id": "DdShhOha0GLE"
      },
      "source": [
        "imputer = Imputer(\n",
        "    inputCols = ['Age','Salary','Experience'],\n",
        "    outputCols = [\"{}_imputed\".format(c) for c in ['Age','Salary','Experience']]\n",
        ").setStrategy(\"median\")"
      ],
      "execution_count": 45,
      "outputs": []
    },
    {
      "cell_type": "code",
      "metadata": {
        "colab": {
          "base_uri": "https://localhost:8080/"
        },
        "id": "_l_-GZbG0rhr",
        "outputId": "3ce8df04-3aad-434d-ba4f-a0a5489ad962"
      },
      "source": [
        "imputer.fit(df_spark).transform(df_spark).show()"
      ],
      "execution_count": 46,
      "outputs": [
        {
          "output_type": "stream",
          "text": [
            "+---+-------+----+-------+----------+-----------+--------------+------------------+\n",
            "|_c0|   Name| Age| Salary|Experience|Age_imputed|Salary_imputed|Experience_imputed|\n",
            "+---+-------+----+-------+----------+-----------+--------------+------------------+\n",
            "|  0|   John|23.0|   null|       1.0|       23.0|       62000.0|               1.0|\n",
            "|  1|  Peter|30.0|50000.0|       6.0|       30.0|       50000.0|               6.0|\n",
            "|  2| Monica|18.0|65000.0|      null|       18.0|       65000.0|              11.0|\n",
            "|  3|  Missy|46.0|   null|      12.0|       46.0|       62000.0|              12.0|\n",
            "|  4|Sheldon|72.0|70000.0|      20.0|       72.0|       70000.0|              20.0|\n",
            "|  5|   Adam|56.0|60000.0|       8.0|       56.0|       60000.0|               8.0|\n",
            "|  6|   Rita|41.0|62000.0|      12.0|       41.0|       62000.0|              12.0|\n",
            "|  7|  Craig|null|   null|      null|       33.0|       62000.0|              11.0|\n",
            "|  8|   null|33.0|75000.0|      11.0|       33.0|       75000.0|              11.0|\n",
            "+---+-------+----+-------+----------+-----------+--------------+------------------+\n",
            "\n"
          ],
          "name": "stdout"
        }
      ]
    },
    {
      "cell_type": "markdown",
      "metadata": {
        "id": "7yqx57kz14d4"
      },
      "source": [
        "#### Filter"
      ]
    },
    {
      "cell_type": "code",
      "metadata": {
        "id": "8A-a-vKN09sH"
      },
      "source": [
        "df_pyspark = df_spark.dropna(how='any')"
      ],
      "execution_count": 47,
      "outputs": []
    },
    {
      "cell_type": "code",
      "metadata": {
        "colab": {
          "base_uri": "https://localhost:8080/"
        },
        "id": "oPO2kDtX2CC_",
        "outputId": "2d806fa8-8c6f-4561-86a1-8389d2f4d64c"
      },
      "source": [
        "df_pyspark.show()"
      ],
      "execution_count": 48,
      "outputs": [
        {
          "output_type": "stream",
          "text": [
            "+---+-------+----+-------+----------+\n",
            "|_c0|   Name| Age| Salary|Experience|\n",
            "+---+-------+----+-------+----------+\n",
            "|  1|  Peter|30.0|50000.0|       6.0|\n",
            "|  4|Sheldon|72.0|70000.0|      20.0|\n",
            "|  5|   Adam|56.0|60000.0|       8.0|\n",
            "|  6|   Rita|41.0|62000.0|      12.0|\n",
            "+---+-------+----+-------+----------+\n",
            "\n"
          ],
          "name": "stdout"
        }
      ]
    },
    {
      "cell_type": "code",
      "metadata": {
        "colab": {
          "base_uri": "https://localhost:8080/"
        },
        "id": "OLpOE_GX2Dpu",
        "outputId": "82903454-4210-414e-83be-b8d54572ef9f"
      },
      "source": [
        "df_pyspark.filter('Age>=35').show()"
      ],
      "execution_count": 49,
      "outputs": [
        {
          "output_type": "stream",
          "text": [
            "+---+-------+----+-------+----------+\n",
            "|_c0|   Name| Age| Salary|Experience|\n",
            "+---+-------+----+-------+----------+\n",
            "|  4|Sheldon|72.0|70000.0|      20.0|\n",
            "|  5|   Adam|56.0|60000.0|       8.0|\n",
            "|  6|   Rita|41.0|62000.0|      12.0|\n",
            "+---+-------+----+-------+----------+\n",
            "\n"
          ],
          "name": "stdout"
        }
      ]
    },
    {
      "cell_type": "code",
      "metadata": {
        "colab": {
          "base_uri": "https://localhost:8080/"
        },
        "id": "-JH_PHe03ID3",
        "outputId": "7b1d676d-c659-45a5-dcaf-33f3b64b3a6c"
      },
      "source": [
        "df_pyspark.filter('Age>=35').select(['Name','Salary']).show()"
      ],
      "execution_count": 50,
      "outputs": [
        {
          "output_type": "stream",
          "text": [
            "+-------+-------+\n",
            "|   Name| Salary|\n",
            "+-------+-------+\n",
            "|Sheldon|70000.0|\n",
            "|   Adam|60000.0|\n",
            "|   Rita|62000.0|\n",
            "+-------+-------+\n",
            "\n"
          ],
          "name": "stdout"
        }
      ]
    },
    {
      "cell_type": "code",
      "metadata": {
        "colab": {
          "base_uri": "https://localhost:8080/"
        },
        "id": "v9d5YFGf3ZFJ",
        "outputId": "5841fa70-72f9-4536-8485-d94ec715205d"
      },
      "source": [
        "df_spark.filter((df_spark['Name']!=np.nan) | (df_spark['Age']>=20)).show()"
      ],
      "execution_count": 54,
      "outputs": [
        {
          "output_type": "stream",
          "text": [
            "+---+-------+----+-------+----------+\n",
            "|_c0|   Name| Age| Salary|Experience|\n",
            "+---+-------+----+-------+----------+\n",
            "|  0|   John|23.0|   null|       1.0|\n",
            "|  1|  Peter|30.0|50000.0|       6.0|\n",
            "|  3|  Missy|46.0|   null|      12.0|\n",
            "|  4|Sheldon|72.0|70000.0|      20.0|\n",
            "|  5|   Adam|56.0|60000.0|       8.0|\n",
            "|  6|   Rita|41.0|62000.0|      12.0|\n",
            "|  8|   null|33.0|75000.0|      11.0|\n",
            "+---+-------+----+-------+----------+\n",
            "\n"
          ],
          "name": "stdout"
        }
      ]
    },
    {
      "cell_type": "code",
      "metadata": {
        "colab": {
          "base_uri": "https://localhost:8080/"
        },
        "id": "0qI7Xlta4J1H",
        "outputId": "1347eeac-0ca9-4046-8963-6e83f644c241"
      },
      "source": [
        "df_spark.filter((df_spark['Name']!= '') & (df_spark['Salary']>=20000)).show()"
      ],
      "execution_count": 57,
      "outputs": [
        {
          "output_type": "stream",
          "text": [
            "+---+-------+----+-------+----------+\n",
            "|_c0|   Name| Age| Salary|Experience|\n",
            "+---+-------+----+-------+----------+\n",
            "|  1|  Peter|30.0|50000.0|       6.0|\n",
            "|  2| Monica|18.0|65000.0|      null|\n",
            "|  4|Sheldon|72.0|70000.0|      20.0|\n",
            "|  5|   Adam|56.0|60000.0|       8.0|\n",
            "|  6|   Rita|41.0|62000.0|      12.0|\n",
            "+---+-------+----+-------+----------+\n",
            "\n"
          ],
          "name": "stdout"
        }
      ]
    },
    {
      "cell_type": "code",
      "metadata": {
        "colab": {
          "base_uri": "https://localhost:8080/"
        },
        "id": "bYhFeKX74bBI",
        "outputId": "a9fc49b7-7ce7-47f9-8908-f858d8e2377d"
      },
      "source": [
        "df_pyspark.filter(~(df_pyspark['Age']>=40)).show()"
      ],
      "execution_count": 58,
      "outputs": [
        {
          "output_type": "stream",
          "text": [
            "+---+-----+----+-------+----------+\n",
            "|_c0| Name| Age| Salary|Experience|\n",
            "+---+-----+----+-------+----------+\n",
            "|  1|Peter|30.0|50000.0|       6.0|\n",
            "+---+-----+----+-------+----------+\n",
            "\n"
          ],
          "name": "stdout"
        }
      ]
    },
    {
      "cell_type": "code",
      "metadata": {
        "id": "P6qPujEj5m9R"
      },
      "source": [
        ""
      ],
      "execution_count": null,
      "outputs": []
    }
  ]
}